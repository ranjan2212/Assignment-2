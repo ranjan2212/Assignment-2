{
 "cells": [
  {
   "cell_type": "markdown",
   "id": "475a38be",
   "metadata": {},
   "source": [
    "Q.1.What are the two values of the Boolean data type? How do you write them?"
   ]
  },
  {
   "cell_type": "markdown",
   "id": "28b3e062",
   "metadata": {},
   "source": [
    "A.1.The boolean data types represents a types of logical value either :\"true\"or\"false\"\n",
    "    These boolean values are commonly used in logical expressions ,conditional statements and boolean algebra to make decision       and control program flow based on certain conditions.\n",
    "    eg. is_raining = True\n",
    "        is_sunny = False"
   ]
  },
  {
   "cell_type": "markdown",
   "id": "b6672488",
   "metadata": {},
   "source": [
    "Q.2.What are the three different types of Boolean operators?"
   ]
  },
  {
   "cell_type": "markdown",
   "id": "28b07ab4",
   "metadata": {},
   "source": [
    "A.2. Three different types of boolean operators are :\n",
    "\n",
    "a.AND operator: The AND operator return 'True' if both operands are 'true' and 'false' otherwise.It's represented by the and        keyword.Eg."
   ]
  },
  {
   "cell_type": "code",
   "execution_count": 2,
   "id": "5724346c",
   "metadata": {},
   "outputs": [
    {
     "name": "stdout",
     "output_type": "stream",
     "text": [
      "False\n"
     ]
    }
   ],
   "source": [
    "a=True\n",
    "b=False\n",
    "result = a and b\n",
    "print(result)"
   ]
  },
  {
   "cell_type": "markdown",
   "id": "7eb82e50",
   "metadata": {},
   "source": [
    "b.OR operator : The OR operator return 'True' if either operand is 'true' and 'false' if both the operands are having value   'false'.Eg."
   ]
  },
  {
   "cell_type": "code",
   "execution_count": 3,
   "id": "33b6999e",
   "metadata": {},
   "outputs": [
    {
     "name": "stdout",
     "output_type": "stream",
     "text": [
      "True\n"
     ]
    }
   ],
   "source": [
    "a=True\n",
    "b=False\n",
    "result = a or b\n",
    "print(result)"
   ]
  },
  {
   "cell_type": "markdown",
   "id": "16c45bd2",
   "metadata": {},
   "source": [
    "c.NOT operator : The NOT operator is an unary operator that returns the opposite of the operands logical value.Eg."
   ]
  },
  {
   "cell_type": "code",
   "execution_count": 4,
   "id": "78d54de2",
   "metadata": {},
   "outputs": [
    {
     "name": "stdout",
     "output_type": "stream",
     "text": [
      "False\n"
     ]
    }
   ],
   "source": [
    "a=True\n",
    "result = not(a)\n",
    "print (result)"
   ]
  },
  {
   "cell_type": "markdown",
   "id": "90f60fbf",
   "metadata": {},
   "source": [
    "Q.3. Make a list of each Boolean operator's truth tables (i.e. every possible combination of Boolean\n",
    "values for the operator and what it evaluate )."
   ]
  },
  {
   "cell_type": "markdown",
   "id": "aa2aa307",
   "metadata": {},
   "source": [
    "A.3. Truth table of each boolean operator:\n",
    "\n",
    "    AND operator(and):\n",
    "        \n",
    "        operand-1                          operand-2                                Result\n",
    "        \n",
    "        True                                 True                                    True\n",
    "        True                                 False                                   False\n",
    "        False                                True                                    False\n",
    "        False                                False                                   False"
   ]
  },
  {
   "cell_type": "markdown",
   "id": "1729fd0f",
   "metadata": {},
   "source": [
    "    OR operator(or):\n",
    "        \n",
    "        operand-1                           operand-2                                 Result\n",
    "        \n",
    "        True                                 True                                    True\n",
    "        True                                 False                                   True\n",
    "        False                                True                                    True\n",
    "        False                                False                                   False"
   ]
  },
  {
   "cell_type": "markdown",
   "id": "af53f188",
   "metadata": {},
   "source": [
    "    NOT operator(not):\n",
    "    \n",
    "       Operand                              Result\n",
    "       \n",
    "       True                                  False\n",
    "       False                                 True\n",
    "    \n",
    "        "
   ]
  },
  {
   "cell_type": "markdown",
   "id": "7d4e41c4",
   "metadata": {},
   "source": [
    "Q.4.What are the values of following expressions?\n",
    "\n",
    "(5 > 4) and (3 == 5)\n",
    "not (5 > 4)\n",
    "(5 > 4) or (3 == 5)\n",
    "not ((5 > 4) or (3 == 5))\n",
    "(True and True) and (True == False)\n",
    "(not False) or (not True)"
   ]
  },
  {
   "cell_type": "markdown",
   "id": "9abb0b5c",
   "metadata": {},
   "source": [
    "Values of following expressions are as follows:"
   ]
  },
  {
   "cell_type": "code",
   "execution_count": 6,
   "id": "b641e79f",
   "metadata": {},
   "outputs": [
    {
     "data": {
      "text/plain": [
       "False"
      ]
     },
     "execution_count": 6,
     "metadata": {},
     "output_type": "execute_result"
    }
   ],
   "source": [
    "(5 > 4) and (3 == 5)"
   ]
  },
  {
   "cell_type": "code",
   "execution_count": 7,
   "id": "db11a05f",
   "metadata": {},
   "outputs": [
    {
     "data": {
      "text/plain": [
       "False"
      ]
     },
     "execution_count": 7,
     "metadata": {},
     "output_type": "execute_result"
    }
   ],
   "source": [
    "not (5 > 4)"
   ]
  },
  {
   "cell_type": "code",
   "execution_count": 8,
   "id": "d33acd89",
   "metadata": {},
   "outputs": [
    {
     "data": {
      "text/plain": [
       "True"
      ]
     },
     "execution_count": 8,
     "metadata": {},
     "output_type": "execute_result"
    }
   ],
   "source": [
    "(5 > 4) or (3 == 5)"
   ]
  },
  {
   "cell_type": "code",
   "execution_count": 9,
   "id": "d07977eb",
   "metadata": {},
   "outputs": [
    {
     "data": {
      "text/plain": [
       "False"
      ]
     },
     "execution_count": 9,
     "metadata": {},
     "output_type": "execute_result"
    }
   ],
   "source": [
    "not ((5 > 4) or (3 == 5))"
   ]
  },
  {
   "cell_type": "code",
   "execution_count": 10,
   "id": "4f030023",
   "metadata": {},
   "outputs": [
    {
     "data": {
      "text/plain": [
       "False"
      ]
     },
     "execution_count": 10,
     "metadata": {},
     "output_type": "execute_result"
    }
   ],
   "source": [
    "(True and True) and (True == False)"
   ]
  },
  {
   "cell_type": "code",
   "execution_count": 11,
   "id": "c2559fd3",
   "metadata": {},
   "outputs": [
    {
     "data": {
      "text/plain": [
       "True"
      ]
     },
     "execution_count": 11,
     "metadata": {},
     "output_type": "execute_result"
    }
   ],
   "source": [
    "(not False) or (not True)"
   ]
  },
  {
   "cell_type": "markdown",
   "id": "9ab97d19",
   "metadata": {},
   "source": [
    "Q.5. What are the six comparison operators?"
   ]
  },
  {
   "cell_type": "markdown",
   "id": "29ba2d66",
   "metadata": {},
   "source": [
    "A.5. \n",
    "\n",
    "a. Equal to(==):It returns true if operands are equal, and false otherwise.Eg."
   ]
  },
  {
   "cell_type": "code",
   "execution_count": 12,
   "id": "05621c5c",
   "metadata": {},
   "outputs": [
    {
     "name": "stdout",
     "output_type": "stream",
     "text": [
      "False\n"
     ]
    }
   ],
   "source": [
    "a=5\n",
    "b=7\n",
    "c=a==b\n",
    "print(c)"
   ]
  },
  {
   "cell_type": "markdown",
   "id": "452b151c",
   "metadata": {},
   "source": [
    "b. Not equal to (!=): It returns true if operands are not equal, otherwise false if equal.Eg."
   ]
  },
  {
   "cell_type": "code",
   "execution_count": 13,
   "id": "8a640a90",
   "metadata": {},
   "outputs": [
    {
     "name": "stdout",
     "output_type": "stream",
     "text": [
      "True\n"
     ]
    }
   ],
   "source": [
    "a=5\n",
    "b=7\n",
    "c=a!=b\n",
    "print(c)"
   ]
  },
  {
   "cell_type": "markdown",
   "id": "b70dd21c",
   "metadata": {},
   "source": [
    "c. Greater than(>): It returns 'true' if the left operand is greater than right operand, and 'False' otherwise. Eg."
   ]
  },
  {
   "cell_type": "code",
   "execution_count": 14,
   "id": "a7d141b3",
   "metadata": {},
   "outputs": [
    {
     "name": "stdout",
     "output_type": "stream",
     "text": [
      "False\n"
     ]
    }
   ],
   "source": [
    "a=5\n",
    "b=7\n",
    "c=a>b\n",
    "print(c)"
   ]
  },
  {
   "cell_type": "markdown",
   "id": "7b5a156c",
   "metadata": {},
   "source": [
    "d. Lesser than(<): It returns 'False' if the left operand is greater than right operand, and 'True' otherwise. Eg."
   ]
  },
  {
   "cell_type": "code",
   "execution_count": 15,
   "id": "74cd7930",
   "metadata": {},
   "outputs": [
    {
     "name": "stdout",
     "output_type": "stream",
     "text": [
      "True\n"
     ]
    }
   ],
   "source": [
    "a=5\n",
    "b=7\n",
    "c=a<b\n",
    "print(c)"
   ]
  },
  {
   "cell_type": "markdown",
   "id": "aad31518",
   "metadata": {},
   "source": [
    "e. Greater than or Equal to: It returns 'true' if the left operand is greater than or equal to right operand, and 'False'      otherwise."
   ]
  },
  {
   "cell_type": "code",
   "execution_count": 16,
   "id": "ff37e46d",
   "metadata": {},
   "outputs": [
    {
     "name": "stdout",
     "output_type": "stream",
     "text": [
      "False\n"
     ]
    }
   ],
   "source": [
    "a=5\n",
    "b=7\n",
    "c=a>=b\n",
    "print(c)"
   ]
  },
  {
   "cell_type": "markdown",
   "id": "6dd3018b",
   "metadata": {},
   "source": [
    "f. Lesser than or Equal to: It returns 'False' if the left operand is lesser than or equal to right operand, and 'True'      otherwise."
   ]
  },
  {
   "cell_type": "code",
   "execution_count": 17,
   "id": "5fbe2d86",
   "metadata": {},
   "outputs": [
    {
     "name": "stdout",
     "output_type": "stream",
     "text": [
      "True\n"
     ]
    }
   ],
   "source": [
    "a=5\n",
    "b=7\n",
    "c=a<=b\n",
    "print(c)"
   ]
  },
  {
   "cell_type": "markdown",
   "id": "7a3d0e73",
   "metadata": {},
   "source": [
    "These comparison operators are used to compare values and evaluate conditions in python,resulting in boolean values('true'or 'false') based on the comparison result."
   ]
  },
  {
   "cell_type": "markdown",
   "id": "cc8c3b62",
   "metadata": {},
   "source": [
    "Q.7. How do you tell the difference between the equal to and assignment operators?Describe a\n",
    "condition and when you would use one."
   ]
  },
  {
   "cell_type": "markdown",
   "id": "efa0fd93",
   "metadata": {},
   "source": [
    "                (==)operator                                                                   (=)operator\n",
    "    \n",
    "    The double equal(==) operator is a comparison operator                       The single equal(=)operator is an assignment\n",
    "    used to check if two values are equal.                                       operator used to assign a value to a variable.\n",
    "    \n",
    "    It returns 'True' if values on both sides of operator                        It assigns the value on R.H.S to the value on \n",
    "    are equal, and false otherwise.                                              L.H.S\n",
    "    \n",
    "    Used in conditional statement like 'if' or 'while'\n",
    "    to evaluate conditions.\n",
    "    \n",
    "    eg. \n",
    "    "
   ]
  },
  {
   "cell_type": "code",
   "execution_count": 21,
   "id": "7a6775da",
   "metadata": {},
   "outputs": [
    {
     "name": "stdout",
     "output_type": "stream",
     "text": [
      "x is not equal to y\n"
     ]
    }
   ],
   "source": [
    "#(==)operator example\n",
    "\n",
    "x=5\n",
    "y=7\n",
    "if x == y:\n",
    "    print(\"x is equal to y\")\n",
    "else:\n",
    "    print(\"x is not equal to y\")"
   ]
  },
  {
   "cell_type": "code",
   "execution_count": 22,
   "id": "a8ca1c2f",
   "metadata": {},
   "outputs": [
    {
     "name": "stdout",
     "output_type": "stream",
     "text": [
      "5\n"
     ]
    }
   ],
   "source": [
    "#(=)operator example\n",
    "\n",
    "x=5\n",
    "print(x)"
   ]
  },
  {
   "cell_type": "markdown",
   "id": "fad25e30",
   "metadata": {},
   "source": [
    "Q.7. Identify the three blocks in this code:\n",
    "spam = 0\n",
    "if spam == 10:\n",
    "print('eggs')\n",
    "if spam > 5:\n",
    "print('bacon')\n",
    "else:\n",
    "print('ham')\n",
    "print('spam')\n",
    "print('spam')"
   ]
  },
  {
   "cell_type": "markdown",
   "id": "923becba",
   "metadata": {},
   "source": [
    "A.7. In the given code there are three blocks distinguished by indentation. Here's how it can be identified:"
   ]
  },
  {
   "cell_type": "code",
   "execution_count": 23,
   "id": "0691e44c",
   "metadata": {},
   "outputs": [],
   "source": [
    "spam=0"
   ]
  },
  {
   "cell_type": "markdown",
   "id": "3e52fff2",
   "metadata": {},
   "source": [
    "#Block-1:\n",
    "if spam==10:\n",
    "    print('eggs')"
   ]
  },
  {
   "cell_type": "markdown",
   "id": "91ca88ba",
   "metadata": {},
   "source": [
    "#Block-2:\n",
    "if spam > 5:\n",
    "    print('bacon')\n"
   ]
  },
  {
   "cell_type": "markdown",
   "id": "fba241c2",
   "metadata": {},
   "source": [
    "#Block-3:\n",
    "else:\n",
    "    print('ham')\n",
    "    print('spam')\n",
    "    print('spam')\n",
    "          "
   ]
  },
  {
   "cell_type": "markdown",
   "id": "f9863262",
   "metadata": {},
   "source": [
    "It's important to note that in python, that indentation plays a crucial role in defining blocks of code.the statements indented at same level are considered part of the same block."
   ]
  },
  {
   "cell_type": "markdown",
   "id": "100ebfa5",
   "metadata": {},
   "source": [
    "Q.8. Write code that prints Hello if 1 is stored in spam, prints Howdy if 2 is stored in spam, and prints\n",
    "Greetings! if anything else is stored in spam."
   ]
  },
  {
   "cell_type": "markdown",
   "id": "87a1840d",
   "metadata": {},
   "source": [
    "The code written below prints Hello if 1 is stored in spam, prints Howdy if 2 is stored in spam, and prints\n",
    "Greetings! if anything else is stored in spam."
   ]
  },
  {
   "cell_type": "code",
   "execution_count": 28,
   "id": "25921df1",
   "metadata": {},
   "outputs": [
    {
     "name": "stdout",
     "output_type": "stream",
     "text": [
      "Greetings\n"
     ]
    }
   ],
   "source": [
    "spam = 0\n",
    "if spam==1:\n",
    "    print('Hello')\n",
    "elif spam==2:\n",
    "    print('Howdy')\n",
    "else:\n",
    "    print('Greetings')"
   ]
  },
  {
   "cell_type": "markdown",
   "id": "5fbe93d4",
   "metadata": {},
   "source": [
    "Q.9.If your programme is stuck in an endless loop, what keys you’ll press?"
   ]
  },
  {
   "cell_type": "code",
   "execution_count": null,
   "id": "f30d8c0e",
   "metadata": {},
   "outputs": [],
   "source": [
    "A.9 Ctrl+c"
   ]
  },
  {
   "cell_type": "markdown",
   "id": "7e72aed9",
   "metadata": {},
   "source": [
    "Q.10. How can you tell the difference between break and continue?"
   ]
  },
  {
   "cell_type": "markdown",
   "id": "f1ac2c3c",
   "metadata": {},
   "source": [
    "A.10. In python 'break' and 'continue' are two control flow statements, used within loops to alter the flow of execution."
   ]
  },
  {
   "cell_type": "markdown",
   "id": "5751d94f",
   "metadata": {},
   "source": [
    "(a.) 'break' statement:\n",
    "    \n",
    "    *When encountered in side the loop(such as in 'for' or 'while' loop),the break statement immediately terminates the loops   execution.\n",
    "    \n",
    "    *It breaks out of the loop regardless of any remaining iterations or conditions.\n",
    "    \n",
    "    *After encountering a 'break' statement, the program continues with the next statement after the loop.\n",
    "    \n",
    "    *Typically used to break the loop prematurely based on a specific condition.\n",
    "    Eg."
   ]
  },
  {
   "cell_type": "code",
   "execution_count": 11,
   "id": "695e21f0",
   "metadata": {},
   "outputs": [
    {
     "name": "stdout",
     "output_type": "stream",
     "text": [
      "0\n",
      "1\n",
      "2\n"
     ]
    }
   ],
   "source": [
    "for i in range(5):\n",
    "    if i==3:\n",
    "        break\n",
    "    print(i)"
   ]
  },
  {
   "cell_type": "markdown",
   "id": "5e409828",
   "metadata": {},
   "source": [
    "b. 'continue' statement\n",
    "\n",
    "   *The 'continue' statement skips the rest of the current iterations and proceed to the next iteration of the loop.\n",
    "   \n",
    "   *It does not terminate the loop entirely but rather continues with the next iteration.\n",
    "   \n",
    "   *Useful when you want to skip certain iterations.\n",
    "   \n",
    "   Eg."
   ]
  },
  {
   "cell_type": "code",
   "execution_count": 12,
   "id": "384bbc7d",
   "metadata": {},
   "outputs": [
    {
     "name": "stdout",
     "output_type": "stream",
     "text": [
      "0\n",
      "1\n",
      "3\n",
      "4\n"
     ]
    }
   ],
   "source": [
    "for i in range(5):\n",
    "    if i==2:\n",
    "        continue\n",
    "    print(i)"
   ]
  },
  {
   "cell_type": "markdown",
   "id": "536200e9",
   "metadata": {},
   "source": [
    "Q.11. In a for loop, what is the difference between range(10), range(0, 10), and range(0, 10, 1)?"
   ]
  },
  {
   "cell_type": "markdown",
   "id": "83f31033",
   "metadata": {},
   "source": [
    "A.11. In a 'for'loop, the expressions 'range(10)','range(0,10)' and 'range(0,10,1)' are equivalent and produse the same sequence       of numbers. The only difference lies in their syntax, but the resulting behaviour is identical.\n",
    "\n",
    "      The range() function in python iterates through each item in the list and gives the output.\n",
    "\n"
   ]
  },
  {
   "cell_type": "markdown",
   "id": "0157de1b",
   "metadata": {},
   "source": [
    "a.'range(10)': This form of range() starts from 0 (by default) and generates the numbers up to, but not including, the specified    end value, which is 10 in this case. It increments by 1(by default). so 'range(10)' provides the sequence of number from 0 to    9."
   ]
  },
  {
   "cell_type": "markdown",
   "id": "9c82a272",
   "metadata": {},
   "source": [
    "b.'range(0,10)':This form of 'range()' specifies both start and end values. It starts from the specified start value, which is 0    in this case, and generates numbers upto but not including, the specified end value which is 10. It increments by 1(by          default), so 'range(0,10)' also produces the sequence of numbers from 0 to 9."
   ]
  },
  {
   "cell_type": "markdown",
   "id": "b9ed45a0",
   "metadata": {},
   "source": [
    "c.'range(0,10,1)': This form of 'range()' includes both the start, end and step values. It starts from specified start value(0),    generates numbers upto, but not including, the specified end value(10) and increments by the specified step value(1).So         'range(0,10,1) generates the same sequence of number from 0 to 9."
   ]
  },
  {
   "cell_type": "markdown",
   "id": "af893649",
   "metadata": {},
   "source": [
    "Q.12. Write a short program that prints the numbers 1 to 10 using a for loop. Then write an equivalent\n",
    "      program that prints the numbers 1 to 10 using a while loop?"
   ]
  },
  {
   "cell_type": "code",
   "execution_count": null,
   "id": "630478d2",
   "metadata": {},
   "outputs": [],
   "source": [
    "for i in range(1,11):\n",
    "    print(i)"
   ]
  },
  {
   "cell_type": "code",
   "execution_count": null,
   "id": "ac63a9c7",
   "metadata": {},
   "outputs": [],
   "source": [
    "i = 1\n",
    "while i <= 10:\n",
    "    print(i)\n",
    "    i += 1"
   ]
  },
  {
   "cell_type": "markdown",
   "id": "7e82b347",
   "metadata": {},
   "source": [
    "Q.13. If you had a function named bacon() inside a module named spam, how would you call it after\n",
    "importing spam?"
   ]
  },
  {
   "cell_type": "code",
   "execution_count": null,
   "id": "b3b6b9d5",
   "metadata": {},
   "outputs": [],
   "source": [
    "import spam\n",
    "spam.bacon()"
   ]
  },
  {
   "cell_type": "markdown",
   "id": "ae42c8c9",
   "metadata": {},
   "source": [
    "In this code spam() refers to the imported module and 'bacon' is function within the 'spam' module.By appending 'bacon()' after spam. You can call and access the 'bacon()' function from the 'spam' module. "
   ]
  }
 ],
 "metadata": {
  "kernelspec": {
   "display_name": "Python 3 (ipykernel)",
   "language": "python",
   "name": "python3"
  },
  "language_info": {
   "codemirror_mode": {
    "name": "ipython",
    "version": 3
   },
   "file_extension": ".py",
   "mimetype": "text/x-python",
   "name": "python",
   "nbconvert_exporter": "python",
   "pygments_lexer": "ipython3",
   "version": "3.10.9"
  }
 },
 "nbformat": 4,
 "nbformat_minor": 5
}
